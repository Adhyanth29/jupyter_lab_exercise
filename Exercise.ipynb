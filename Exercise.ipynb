{
 "cells": [
  {
   "cell_type": "markdown",
   "id": "be4cb753-1a56-4509-a3c8-b99fa40fc58c",
   "metadata": {},
   "source": [
    "# Calculating pi using Monte Carlo methods"
   ]
  },
  {
   "cell_type": "markdown",
   "id": "f6e39ec5-49f7-46cf-a517-afd10920ec49",
   "metadata": {
    "jp-MarkdownHeadingCollapsed": true,
    "tags": []
   },
   "source": [
    "## Relevant formulas\n",
    "- square area = $s = (2 r)^2$\n",
    "- circle area: $c = \\pi r^2$\n",
    "- $c/s = (\\pi r^2) / (4 r^2) = \\pi / 4$\n",
    "- $\\pi = 4 * c/s$"
   ]
  },
  {
   "cell_type": "markdown",
   "id": "acbe296a-9566-4a27-bf35-a8b8404040ea",
   "metadata": {
    "tags": []
   },
   "source": [
    "## Image to visualize the concept\n",
    "\n",
    "![Darts](https://raw.githubusercontent.com/coderefinery/jupyter/main/example/darts.svg)"
   ]
  },
  {
   "cell_type": "code",
   "execution_count": 95,
   "id": "5eb575d3-457b-48eb-a5bd-513ffff52310",
   "metadata": {},
   "outputs": [],
   "source": [
    "# importing modules that we will need\n",
    "\n",
    "import random\n",
    "import matplotlib.pyplot as plt"
   ]
  },
  {
   "cell_type": "code",
   "execution_count": 96,
   "id": "7737316c-77fe-401f-a3f3-023832c11ff4",
   "metadata": {},
   "outputs": [],
   "source": [
    "# initializing the number of \"throws\"\n",
    "\n",
    "num_points = 100000"
   ]
  },
  {
   "cell_type": "code",
   "execution_count": 97,
   "id": "393eade0-985e-470c-ab9e-20d0c782a62d",
   "metadata": {},
   "outputs": [],
   "source": [
    "# here we \"throw darts\" and count the number of hits\n",
    "\n",
    "points = []\n",
    "hits = 0\n",
    "for _ in range(num_points):\n",
    "    x, y = random.random(), random.random()\n",
    "    if x*x + y*y < 1.0:\n",
    "        hits += 1\n",
    "        points.append((x, y, \"red\"))\n",
    "    else:\n",
    "        points.append((x, y, \"blue\"))"
   ]
  },
  {
   "cell_type": "code",
   "execution_count": 98,
   "id": "b6b6871b-da79-4af8-97a3-004b526f64c2",
   "metadata": {},
   "outputs": [
    {
     "data": {
      "text/plain": [
       "<matplotlib.collections.PathCollection at 0x27708c83c40>"
      ]
     },
     "execution_count": 98,
     "metadata": {},
     "output_type": "execute_result"
    },
    {
     "data": {
      "image/png": "[encoded data removed]",
      "text/plain": [
       "<Figure size 432x432 with 1 Axes>"
      ]
     },
     "metadata": {
      "needs_background": "light"
     },
     "output_type": "display_data"
    }
   ],
   "source": [
    "# unzip points into 3 lists\n",
    "x, y, colors = zip(*points)\n",
    "\n",
    "# define figure dimensions\n",
    "fig, ax = plt.subplots()\n",
    "fig.set_size_inches(6.0, 6.0)\n",
    "\n",
    "# plot results\n",
    "ax.scatter(x, y, c=colors)"
   ]
  },
  {
   "cell_type": "code",
   "execution_count": 99,
   "id": "697f67f5-466c-4f87-b2f5-92d282fab859",
   "metadata": {},
   "outputs": [
    {
     "data": {
      "text/plain": [
       "3.14372"
      ]
     },
     "execution_count": 99,
     "metadata": {},
     "output_type": "execute_result"
    }
   ],
   "source": [
    "# compute and print the estimate\n",
    "\n",
    "fraction = hits / num_points\n",
    "4 * fraction"
   ]
  }
 ],
 "metadata": {
  "kernelspec": {
   "display_name": "Python 3 (ipykernel)",
   "language": "python",
   "name": "python3"
  },
  "language_info": {
   "codemirror_mode": {
    "name": "ipython",
    "version": 3
   },
   "file_extension": ".py",
   "mimetype": "text/x-python",
   "name": "python",
   "nbconvert_exporter": "python",
   "pygments_lexer": "ipython3",
   "version": "3.10.2"
  }
 },
 "nbformat": 4,
 "nbformat_minor": 5
}
